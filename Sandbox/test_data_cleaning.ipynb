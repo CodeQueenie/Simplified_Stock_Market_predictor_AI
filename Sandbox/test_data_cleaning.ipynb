{
 "cells": [
  {
   "cell_type": "markdown",
   "id": "918af8be",
   "metadata": {},
   "source": [
    "# Stock Market Data Cleaning Notebook\n",
    "This notebook will guide you through the process of loading, cleaning, and normalizing stock market data. It handles missing values and ensures the data is ready for further analysis."
   ]
  },
  {
   "cell_type": "markdown",
   "id": "e686872b",
   "metadata": {},
   "source": [
    "## 1. Import Libraries\n",
    "In this section, we'll import the necessary Python libraries, including `pandas` for data manipulation and `MinMaxScaler` for data normalization."
   ]
  },
  {
   "cell_type": "code",
   "execution_count": 1,
   "id": "de72fa0e-e13e-4f14-a5ef-f38c079c2993",
   "metadata": {},
   "outputs": [],
   "source": [
    "# Import required libraries\n",
    "import pandas as pd\n",
    "from sklearn.preprocessing import MinMaxScaler"
   ]
  },
  {
   "cell_type": "markdown",
   "id": "3baf5ad5",
   "metadata": {},
   "source": [
    "## 2. Load the Data\n",
    "Here we will load the stock market data from a CSV file. The data will have columns like \"price\", \"close\", \"high\", \"low\", \"open\", and \"volume\"."
   ]
  },
  {
   "cell_type": "code",
   "execution_count": 2,
   "id": "7267c5ce-cadf-4d14-a9c5-c0179ff62198",
   "metadata": {},
   "outputs": [
    {
     "data": {
      "text/html": [
       "<div>\n",
       "<style scoped>\n",
       "    .dataframe tbody tr th:only-of-type {\n",
       "        vertical-align: middle;\n",
       "    }\n",
       "\n",
       "    .dataframe tbody tr th {\n",
       "        vertical-align: top;\n",
       "    }\n",
       "\n",
       "    .dataframe thead th {\n",
       "        text-align: right;\n",
       "    }\n",
       "</style>\n",
       "<table border=\"1\" class=\"dataframe\">\n",
       "  <thead>\n",
       "    <tr style=\"text-align: right;\">\n",
       "      <th></th>\n",
       "      <th>price</th>\n",
       "      <th>close</th>\n",
       "      <th>high</th>\n",
       "      <th>low</th>\n",
       "      <th>open</th>\n",
       "      <th>volume</th>\n",
       "    </tr>\n",
       "  </thead>\n",
       "  <tbody>\n",
       "    <tr>\n",
       "      <th>0</th>\n",
       "      <td>100.0</td>\n",
       "      <td>105</td>\n",
       "      <td>110</td>\n",
       "      <td>98</td>\n",
       "      <td>102</td>\n",
       "      <td>5000</td>\n",
       "    </tr>\n",
       "    <tr>\n",
       "      <th>1</th>\n",
       "      <td>102.0</td>\n",
       "      <td>107</td>\n",
       "      <td>112</td>\n",
       "      <td>99</td>\n",
       "      <td>104</td>\n",
       "      <td>4500</td>\n",
       "    </tr>\n",
       "    <tr>\n",
       "      <th>2</th>\n",
       "      <td>NaN</td>\n",
       "      <td>106</td>\n",
       "      <td>109</td>\n",
       "      <td>97</td>\n",
       "      <td>101</td>\n",
       "      <td>4700</td>\n",
       "    </tr>\n",
       "    <tr>\n",
       "      <th>3</th>\n",
       "      <td>98.0</td>\n",
       "      <td>103</td>\n",
       "      <td>108</td>\n",
       "      <td>95</td>\n",
       "      <td>97</td>\n",
       "      <td>4600</td>\n",
       "    </tr>\n",
       "    <tr>\n",
       "      <th>4</th>\n",
       "      <td>105.0</td>\n",
       "      <td>108</td>\n",
       "      <td>113</td>\n",
       "      <td>101</td>\n",
       "      <td>106</td>\n",
       "      <td>5200</td>\n",
       "    </tr>\n",
       "  </tbody>\n",
       "</table>\n",
       "</div>"
      ],
      "text/plain": [
       "   price  close  high  low  open  volume\n",
       "0  100.0    105   110   98   102    5000\n",
       "1  102.0    107   112   99   104    4500\n",
       "2    NaN    106   109   97   101    4700\n",
       "3   98.0    103   108   95    97    4600\n",
       "4  105.0    108   113  101   106    5200"
      ]
     },
     "execution_count": 2,
     "metadata": {},
     "output_type": "execute_result"
    }
   ],
   "source": [
    "# Load data\n",
    "data = pd.read_csv(\"C:/Projects/Simplified_Stock_Market_Predictor_AI/Sandbox/test_stock_data.csv\")\n",
    "data.head()  # Display the first few rows to verify the data"
   ]
  },
  {
   "cell_type": "markdown",
   "id": "1fe251c8",
   "metadata": {},
   "source": [
    "## 3. Clean the Data\n",
    "This section will handle the cleaning process:\n",
    "1. Convert relevant columns to numeric values.\n",
    "2. Fill missing values in the \"price\" column with the mean.\n",
    "3. Normalize the numeric columns using Min-Max scaling."
   ]
  },
  {
   "cell_type": "code",
   "execution_count": 11,
   "id": "e58f7c80-d21f-4212-bc6a-70c8cf2f98d8",
   "metadata": {},
   "outputs": [
    {
     "name": "stdout",
     "output_type": "stream",
     "text": [
      "Data loaded successfully.\n",
      "Converted relevant columns to numeric.\n",
      "Handling NaN values in the price column.\n",
      "Selected numeric columns.\n",
      "Missing values filled.\n",
      "Data normalized.\n",
      "Cleaned data saved to C:/Projects/Simplified_Stock_Market_Predictor_AI/Sandbox/cleaned_test_stock_data.csv\n"
     ]
    },
    {
     "name": "stderr",
     "output_type": "stream",
     "text": [
      "C:\\Users\\ncole\\AppData\\Local\\Temp\\ipykernel_9640\\1399908567.py:25: FutureWarning: A value is trying to be set on a copy of a DataFrame or Series through chained assignment using an inplace method.\n",
      "The behavior will change in pandas 3.0. This inplace method will never work because the intermediate object on which we are setting values always behaves as a copy.\n",
      "\n",
      "For example, when doing 'df[col].method(value, inplace=True)', try using 'df.method({col: value}, inplace=True)' or df[col] = df[col].method(value) instead, to perform the operation inplace on the original object.\n",
      "\n",
      "\n",
      "  data[\"price\"].fillna(data[\"price\"].mean(), inplace=True)\n"
     ]
    }
   ],
   "source": [
    "import pandas as pd\n",
    "from sklearn.preprocessing import MinMaxScaler\n",
    "\n",
    "def clean_data(input_file, output_file):\n",
    "    \"\"\"\n",
    "    Cleans the stock market data by handling missing values and normalizing the data.\n",
    "\n",
    "    Args:\n",
    "        input_file (str): Path to the input CSV file.\n",
    "        output_file (str): Path to the output CSV file.\n",
    "    \"\"\"\n",
    "    try:\n",
    "        # Load data\n",
    "        data = pd.read_csv(input_file)\n",
    "        print(\"Data loaded successfully.\")\n",
    "        \n",
    "        # Convert relevant columns to numeric, coercing errors to NaN\n",
    "        cols = [\"price\", \"close\", \"high\", \"low\", \"open\", \"volume\"]\n",
    "        data[cols] = data[cols].apply(pd.to_numeric, errors=\"coerce\")\n",
    "        print(\"Converted relevant columns to numeric.\")\n",
    "        \n",
    "        # Handle NaN values in the price column specifically\n",
    "        if data[\"price\"].isna().sum() > 0:\n",
    "            print(\"Handling NaN values in the price column.\")\n",
    "            data[\"price\"] = data[\"price\"].fillna(data[\"price\"].mean())\n",
    "\n",
    "        # Select numeric columns\n",
    "        numeric_data = data.select_dtypes(include=\"number\")\n",
    "        print(\"Selected numeric columns.\")\n",
    "        \n",
    "        # Fill missing values with the mean for other columns\n",
    "        numeric_data = numeric_data.fillna(numeric_data.mean())\n",
    "        print(\"Missing values filled.\")\n",
    "        \n",
    "        # Normalize data using Min-Max Scaling\n",
    "        scaler = MinMaxScaler()\n",
    "        data_scaled = pd.DataFrame(scaler.fit_transform(numeric_data), columns=numeric_data.columns)\n",
    "        print(\"Data normalized.\")\n",
    "        \n",
    "        # Save cleaned data to the specific path\n",
    "        data_scaled.to_csv(output_file, index=False)\n",
    "        print(f\"Cleaned data saved to {output_file}\")\n",
    "\n",
    "    except Exception as e:\n",
    "        print(f\"Error cleaning data: {str(e)}\")  # Ensure error message is a string\n",
    "\n",
    "# Specify the input and output file paths\n",
    "input_file = \"C:/Projects/Simplified_Stock_Market_Predictor_AI/Sandbox/test_stock_data.csv\"\n",
    "output_file = \"C:/Projects/Simplified_Stock_Market_Predictor_AI/Sandbox/cleaned_test_stock_data.csv\"\n",
    "\n",
    "# Clean the data\n",
    "clean_data(input_file, output_file)"
   ]
  },
  {
   "cell_type": "markdown",
   "id": "deeecf6c",
   "metadata": {},
   "source": [
    "## 4. Verify the Data\n",
    "After cleaning the data, we should verify that the cleaned data looks as expected. Let's load the cleaned data and display the first few rows."
   ]
  },
  {
   "cell_type": "code",
   "execution_count": 10,
   "id": "c7954b84-c625-4a53-887f-82351fcd86d9",
   "metadata": {},
   "outputs": [
    {
     "data": {
      "text/html": [
       "<div>\n",
       "<style scoped>\n",
       "    .dataframe tbody tr th:only-of-type {\n",
       "        vertical-align: middle;\n",
       "    }\n",
       "\n",
       "    .dataframe tbody tr th {\n",
       "        vertical-align: top;\n",
       "    }\n",
       "\n",
       "    .dataframe thead th {\n",
       "        text-align: right;\n",
       "    }\n",
       "</style>\n",
       "<table border=\"1\" class=\"dataframe\">\n",
       "  <thead>\n",
       "    <tr style=\"text-align: right;\">\n",
       "      <th></th>\n",
       "      <th>price</th>\n",
       "      <th>close</th>\n",
       "      <th>high</th>\n",
       "      <th>low</th>\n",
       "      <th>open</th>\n",
       "      <th>volume</th>\n",
       "    </tr>\n",
       "  </thead>\n",
       "  <tbody>\n",
       "    <tr>\n",
       "      <th>0</th>\n",
       "      <td>100.0</td>\n",
       "      <td>105</td>\n",
       "      <td>110</td>\n",
       "      <td>98</td>\n",
       "      <td>102</td>\n",
       "      <td>5000</td>\n",
       "    </tr>\n",
       "    <tr>\n",
       "      <th>1</th>\n",
       "      <td>102.0</td>\n",
       "      <td>107</td>\n",
       "      <td>112</td>\n",
       "      <td>99</td>\n",
       "      <td>104</td>\n",
       "      <td>4500</td>\n",
       "    </tr>\n",
       "    <tr>\n",
       "      <th>2</th>\n",
       "      <td>NaN</td>\n",
       "      <td>106</td>\n",
       "      <td>109</td>\n",
       "      <td>97</td>\n",
       "      <td>101</td>\n",
       "      <td>4700</td>\n",
       "    </tr>\n",
       "    <tr>\n",
       "      <th>3</th>\n",
       "      <td>98.0</td>\n",
       "      <td>103</td>\n",
       "      <td>108</td>\n",
       "      <td>95</td>\n",
       "      <td>97</td>\n",
       "      <td>4600</td>\n",
       "    </tr>\n",
       "    <tr>\n",
       "      <th>4</th>\n",
       "      <td>105.0</td>\n",
       "      <td>108</td>\n",
       "      <td>113</td>\n",
       "      <td>101</td>\n",
       "      <td>106</td>\n",
       "      <td>5200</td>\n",
       "    </tr>\n",
       "  </tbody>\n",
       "</table>\n",
       "</div>"
      ],
      "text/plain": [
       "   price  close  high  low  open  volume\n",
       "0  100.0    105   110   98   102    5000\n",
       "1  102.0    107   112   99   104    4500\n",
       "2    NaN    106   109   97   101    4700\n",
       "3   98.0    103   108   95    97    4600\n",
       "4  105.0    108   113  101   106    5200"
      ]
     },
     "execution_count": 10,
     "metadata": {},
     "output_type": "execute_result"
    }
   ],
   "source": [
    "# Verify the test data\n",
    "test_data = pd.read_csv(\"C:/Projects/Simplified_Stock_Market_Predictor_AI/Sandbox/test_stock_data.csv\")\n",
    "test_data.head()  # Display the first few rows of the test data"
   ]
  },
  {
   "cell_type": "markdown",
   "id": "dbb363c3",
   "metadata": {},
   "source": [
    "## 5. Conclusion\n",
    "In this notebook, we've:\n",
    "1. Loaded and cleaned stock market data.\n",
    "2. Handled missing values by filling them with the mean.\n",
    "3. Normalized the numeric columns to prepare the data for further analysis."
   ]
  }
 ],
 "metadata": {
  "kernelspec": {
   "display_name": "Python 3",
   "language": "python",
   "name": "python3"
  },
  "language_info": {
   "codemirror_mode": {
    "name": "ipython",
    "version": 3
   },
   "file_extension": ".py",
   "mimetype": "text/x-python",
   "name": "python",
   "nbconvert_exporter": "python",
   "pygments_lexer": "ipython3",
   "version": "3.12.1"
  }
 },
 "nbformat": 4,
 "nbformat_minor": 5
}
