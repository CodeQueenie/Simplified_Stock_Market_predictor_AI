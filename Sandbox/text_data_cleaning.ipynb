{
 "cells": [
  {
   "cell_type": "markdown",
   "id": "918af8be",
   "metadata": {},
   "source": [
    "# Stock Market Data Cleaning Notebook\n",
    "This notebook will guide you through the process of loading, cleaning, and normalizing stock market data. It handles missing values and ensures the data is ready for further analysis."
   ]
  },
  {
   "cell_type": "markdown",
   "id": "e686872b",
   "metadata": {},
   "source": [
    "## 1. Import Libraries\n",
    "In this section, we'll import the necessary Python libraries, including `pandas` for data manipulation and `MinMaxScaler` for data normalization."
   ]
  },
  {
   "cell_type": "code",
   "execution_count": null,
   "id": "de72fa0e-e13e-4f14-a5ef-f38c079c2993",
   "metadata": {},
   "outputs": [],
   "source": [
    "# Import required libraries\n",
    "import pandas as pd\n",
    "from sklearn.preprocessing import MinMaxScaler"
   ]
  },
  {
   "cell_type": "markdown",
   "id": "3baf5ad5",
   "metadata": {},
   "source": [
    "## 2. Load the Data\n",
    "Here we will load the stock market data from a CSV file. The data will have columns like \"price\", \"close\", \"high\", \"low\", \"open\", and \"volume\"."
   ]
  },
  {
   "cell_type": "code",
   "execution_count": null,
   "id": "7267c5ce-cadf-4d14-a9c5-c0179ff62198",
   "metadata": {},
   "outputs": [],
   "source": [
    "# Load data\n",
    "data = pd.read_csv(\"C:/Projects/Simplified_Stock_Market_Predictor_AI/MarketMind-AI/Sandbox/test_stock_data.csv\")\n",
    "data.head()  # Display the first few rows to verify the data"
   ]
  },
  {
   "cell_type": "markdown",
   "id": "1fe251c8",
   "metadata": {},
   "source": [
    "## 3. Clean the Data\n",
    "This section will handle the cleaning process:\n",
    "1. Convert relevant columns to numeric values.\n",
    "2. Fill missing values in the \"price\" column with the mean.\n",
    "3. Normalize the numeric columns using Min-Max scaling."
   ]
  },
  {
   "cell_type": "code",
   "execution_count": null,
   "id": "e58f7c80-d21f-4212-bc6a-70c8cf2f98d8",
   "metadata": {},
   "outputs": [],
   "source": [
    "# Function to clean data\n",
    "def clean_data(input_file, output_file):\n",
    "    \"\"\"\n",
    "    Cleans the stock market data by handling missing values and normalizing the data.\n",
    "\n",
    "    Args:\n",
    "        input_file (str): Path to the input CSV file.\n",
    "        output_file (str): Path to the output CSV file.\n",
    "    \"\"\"\n",
    "    try:\n",
    "        # Load data\n",
    "        data = pd.read_csv(input_file)\n",
    "        print(\"Data loaded successfully.\")\n",
    "        \n",
    "        # Convert relevant columns to numeric, coercing errors to NaN\n",
    "        cols = [\"price\", \"close\", \"high\", \"low\", \"open\", \"volume\"]\n",
    "        data[cols] = data[cols].apply(pd.to_numeric, errors=\"coerce\")\n",
    "        print(\"Converted relevant columns to numeric.\")\n",
    "        \n",
    "        # Handle NaN values in the price column specifically\n",
    "        if data[\"price\"].isna().sum() > 0:\n",
    "            print(\"Handling NaN values in the price column.\")\n",
    "            data[\"price\"].fillna(data[\"price\"].mean(), inplace=True)\n",
    "\n",
    "        # Select numeric columns\n",
    "        numeric_data = data.select_dtypes(include=\"number\")\n",
    "        print(\"Selected numeric columns.\")\n",
    "        \n",
    "        # Fill missing values with the mean for other columns\n",
    "        numeric_data.fillna(numeric_data.mean(), inplace=True)\n",
    "        print(\"Missing values filled.\")\n",
    "        \n",
    "        # Normalize data using Min-Max Scaling\n",
    "        scaler = MinMaxScaler()\n",
    "        data_scaled = pd.DataFrame(scaler.fit_transform(numeric_data), columns=numeric_data.columns)\n",
    "        print(\"Data normalized.\")\n",
    "        \n",
    "        # Save cleaned data to the specific path\n",
    "        output_file = 'C:/Projects/Simplified_Stock_Market_Predictor_AI/MarketMind-AI/Sandbox/cleaned_stock_data.csv'\n",
    "        data_scaled.to_csv(output_file, index=False)\n",
    "        print(f\"Cleaned data saved to {output_file}\")\n",
    "\n",
    "    except Exception as e:\n",
    "        print(f\"Error cleaning data: {str(e)}\")  # Ensure error message is a string"
   ]
  },
  {
   "cell_type": "markdown",
   "id": "deeecf6c",
   "metadata": {},
   "source": [
    "## 4. Verify the Data\n",
    "After cleaning the data, we should verify that the cleaned data looks as expected. Let's load the cleaned data and display the first few rows."
   ]
  },
  {
   "cell_type": "code",
   "execution_count": null,
   "id": "c7954b84-c625-4a53-887f-82351fcd86d9",
   "metadata": {},
   "outputs": [],
   "source": [
    "# Verify the cleaned data\n",
    "cleaned_data = pd.read_csv('C:/Projects/Simplified_Stock_Market_Predictor_AI/MarketMind-AI/Sandbox/cleaned_stock_data.csv')\n",
    "cleaned_data.head()  # Display the first few rows of the cleaned data"
   ]
  },
  {
   "cell_type": "markdown",
   "id": "dbb363c3",
   "metadata": {},
   "source": [
    "## 5. Conclusion\n",
    "In this notebook, we've:\n",
    "1. Loaded and cleaned stock market data.\n",
    "2. Handled missing values by filling them with the mean.\n",
    "3. Normalized the numeric columns to prepare the data for further analysis."
   ]
  }
 ],
 "metadata": {
  "kernelspec": {
   "display_name": "Python 3 (ipykernel)",
   "language": "python",
   "name": "python3"
  },
  "language_info": {
   "codemirror_mode": {
    "name": "ipython",
    "version": 3
   },
   "file_extension": ".py",
   "mimetype": "text/x-python",
   "name": "python",
   "nbconvert_exporter": "python",
   "pygments_lexer": "ipython3",
   "version": "3.9.21"
  }
 },
 "nbformat": 4,
 "nbformat_minor": 5
}
